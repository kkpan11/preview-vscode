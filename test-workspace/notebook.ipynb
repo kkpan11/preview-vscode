{
  "cells": [
    {
      "cell_type": "markdown",
      "metadata": {},
      "source": [
        "# Your Custom Renderer"
      ]
    },
    {
      "cell_type": "markdown",
      "metadata": {},
      "source": [
        "This is a Jupyter notebook file. Down below, we've created output as if a cell was executed and generated `x-application/custom-json-output` output. You can use the **View: Reopen Editor With...** command to view the JSON source of this notebook and change the output data. Or, you can installed the Python extension (for example) and replace the code cell below with one that generates the output you expect"
      ]
    },
    {
      "cell_type": "markdown",
      "metadata": {},
      "source": [
        "## emoji\n",
        "+ :cat:\n",
        "+ :smiling_face_with_three_hearts:\n",
        "+ :100:"
      ]
    },
    {
      "cell_type": "markdown",
      "metadata": {},
      "source": [
        "## GFM task list\n",
        "- [x] GFM task list 1\n",
        "- [x] GFM task list 2\n",
        "- [ ] GFM task list 3\n",
        "    - [ ] GFM task list 3-1\n",
        "    - [ ] GFM task list 3-2\n",
        "    - [ ] GFM task list 3-3\n",
        "- [ ] GFM task list 4\n",
        "    - [ ] GFM task list 4-1\n",
        "    - [ ] GFM task list 4-2"
      ]
    },
    {
      "cell_type": "code",
      "execution_count": 1,
      "metadata": {},
      "outputs": [],
      "source": [
        "# <code that creates x-application/custom-json-output output>"
      ]
    },
    {
      "cell_type": "markdown",
      "metadata": {},
      "source": [
        "# mermaid\n",
        "```mermaid\n",
        "graph TD\n",
        "    A[Christmas] -->|Get money| B(Go shopping)\n",
        "    B --> C{Let me think}\n",
        "    C -->|One| D[Laptop]\n",
        "    C -->|Two| E[iPhone]\n",
        "    C -->|Three| F[Car]\n",
        "```\n",
        "```mermaid\n",
        "        flowchart LR\n",
        "\n",
        "        A[Hard] -->|Text| B(Round)\n",
        "        B --> C{Decision}\n",
        "        C -->|One| D[Result 1]\n",
        "        C -->|Two| E[Result 2]\n",
        "```"
      ]
    }
  ],
  "metadata": {
    "kernelspec": {
      "display_name": "Python 3",
      "language": "python",
      "name": "python3"
    },
    "language_info": {
      "name": "python",
      "version": "3.11.7"
    }
  },
  "nbformat": 4,
  "nbformat_minor": 2
}
